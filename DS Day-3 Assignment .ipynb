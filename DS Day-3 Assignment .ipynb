{
 "cells": [
  {
   "cell_type": "code",
   "execution_count": 1,
   "metadata": {},
   "outputs": [],
   "source": [
    "import numpy as np"
   ]
  },
  {
   "cell_type": "code",
   "execution_count": null,
   "metadata": {},
   "outputs": [],
   "source": [
    "# 🌹 Q.1-->\n",
    "\n",
    "arr = np.arange(start=2, stop=50, step=3)\n",
    "print(arr)\n",
    "#or\n",
    "np.arange(2,50,3)"
   ]
  },
  {
   "cell_type": "code",
   "execution_count": 60,
   "metadata": {},
   "outputs": [
    {
     "name": "stdout",
     "output_type": "stream",
     "text": [
      "Enter lst1:\n",
      "1\n",
      "20\n",
      "100\n",
      "2\n",
      "3\n",
      "Enter lst2:\n",
      "1000\n",
      "2\n",
      "3\n",
      "76\n",
      "45\n",
      "[   1   20  100    2    3 1000    2    3   76   45]\n",
      "[   1    2    2    3    3   20   45   76  100 1000]\n"
     ]
    }
   ],
   "source": [
    "# 🍁 Q.2 -->\n",
    "\n",
    "lst1 = []    \n",
    "lst2 = []   \n",
    "print(\"Enter lst1:\")\n",
    "for i in range(5):\n",
    "    lst1.append(int(input())) \n",
    "\n",
    "print(\"Enter lst2:\")\n",
    "for i in range(5):\n",
    "    lst2.append(int(input())) \n",
    "\n",
    "arr1= np.asarray(lst1)\n",
    "arr2 =np.asarray(lst2)\n",
    "\n",
    "print(np.concatenate((arr1, arr2)))\n",
    "print(np.sort(np.concatenate((arr1, arr2))))\n"
   ]
  },
  {
   "cell_type": "code",
   "execution_count": 46,
   "metadata": {},
   "outputs": [
    {
     "name": "stdout",
     "output_type": "stream",
     "text": [
      "[[0 1 2 3 4]\n",
      " [5 6 7 8 9]]\n",
      "2\n",
      "10\n",
      "(2, 5)\n"
     ]
    }
   ],
   "source": [
    "# 🍂 Q.3 -->\n",
    "\n",
    "x = np.arange(10).reshape(2,5)\n",
    "print(x)\n",
    "print(x.ndim)\n",
    "print(x.size)\n",
    "print(x.shape)\n"
   ]
  },
  {
   "cell_type": "code",
   "execution_count": 59,
   "metadata": {},
   "outputs": [
    {
     "name": "stdout",
     "output_type": "stream",
     "text": [
      "[1 2 3 4 5 6]\n",
      "\n",
      " [[1]\n",
      " [2]\n",
      " [3]\n",
      " [4]\n",
      " [5]\n",
      " [6]]\n",
      "\n",
      " [[1 2 3 4 5 6]]\n",
      "\n",
      " [[1 2 3 4 5 6]]\n",
      "\n",
      " [[1]\n",
      " [2]\n",
      " [3]\n",
      " [4]\n",
      " [5]\n",
      " [6]]\n",
      "\n",
      " [[[1 2 3 4 5 6]]]\n"
     ]
    }
   ],
   "source": [
    "# 🌻 Q.4 -->\n",
    "\n",
    "y = np.array([1,2,3,4,5,6])\n",
    "print(y)\n",
    "\n",
    "print(\"\\n\",y[:, np.newaxis])\n",
    "print(\"\\n\",y[np.newaxis, :])\n",
    "\n",
    "print(\"\\n\",np.expand_dims(y, axis=0))\n",
    "print(\"\\n\",np.expand_dims(y, axis=1))\n",
    "print(\"\\n\",np.expand_dims(y, axis=(0, 1)))\n",
    "\n"
   ]
  },
  {
   "cell_type": "code",
   "execution_count": 66,
   "metadata": {},
   "outputs": [
    {
     "name": "stdout",
     "output_type": "stream",
     "text": [
      "[[11 12 13]\n",
      " [14 15 16]\n",
      " [17 18 19]]\n",
      "\n",
      " [[21 22 23]\n",
      " [24 25 26]\n",
      " [27 28 29]]\n",
      "\n",
      " [[11 12 13 21 22 23]\n",
      " [14 15 16 24 25 26]\n",
      " [17 18 19 27 28 29]]\n",
      "\n",
      " [[11 12 13]\n",
      " [14 15 16]\n",
      " [17 18 19]\n",
      " [21 22 23]\n",
      " [24 25 26]\n",
      " [27 28 29]]\n"
     ]
    }
   ],
   "source": [
    "# 🌼 Q.5 -->\n",
    "\n",
    "sq1 = np.arange(11, 20).reshape((3, 3))\n",
    "print(sq1)\n",
    "sq2 = np.arange(21, 30).reshape((3, 3))\n",
    "print(\"\\n\",sq2)\n",
    "\n",
    "print(\"\\n\",np.hstack((sq1, sq2)))\n",
    "print(\"\\n\",np.vstack((sq1, sq2)))\n"
   ]
  },
  {
   "cell_type": "code",
   "execution_count": 81,
   "metadata": {},
   "outputs": [
    {
     "name": "stdout",
     "output_type": "stream",
     "text": [
      "Enter the list items : 1 2 3 4 10 100 100 2 3 4 5 6 7 8 9 0 12 \n",
      "[[  0   1]\n",
      " [  1   1]\n",
      " [  2   2]\n",
      " [  3   2]\n",
      " [  4   2]\n",
      " [  5   1]\n",
      " [  6   1]\n",
      " [  7   1]\n",
      " [  8   1]\n",
      " [  9   1]\n",
      " [ 10   1]\n",
      " [ 12   1]\n",
      " [100   2]]\n"
     ]
    }
   ],
   "source": [
    "# 🌺 Q.6 -->\n",
    "\n",
    "lst = []\n",
    "lst = [int(item) for item in input(\"Enter the list items : \").split()]\n",
    "unique, count = np.unique(lst,  return_counts = True) \n",
    "print(np.asarray((unique, count)).T)"
   ]
  },
  {
   "cell_type": "code",
   "execution_count": null,
   "metadata": {},
   "outputs": [],
   "source": []
  }
 ],
 "metadata": {
  "kernelspec": {
   "display_name": "Python 3",
   "language": "python",
   "name": "python3"
  },
  "language_info": {
   "codemirror_mode": {
    "name": "ipython",
    "version": 3
   },
   "file_extension": ".py",
   "mimetype": "text/x-python",
   "name": "python",
   "nbconvert_exporter": "python",
   "pygments_lexer": "ipython3",
   "version": "3.8.3"
  }
 },
 "nbformat": 4,
 "nbformat_minor": 4
}
