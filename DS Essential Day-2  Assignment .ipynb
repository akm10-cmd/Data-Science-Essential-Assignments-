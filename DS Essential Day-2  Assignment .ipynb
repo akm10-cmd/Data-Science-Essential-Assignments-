{
 "cells": [
  {
   "cell_type": "code",
   "execution_count": 25,
   "metadata": {
    "scrolled": true
   },
   "outputs": [
    {
     "name": "stdout",
     "output_type": "stream",
     "text": [
      "1\n",
      "2\n",
      "3\n",
      "4\n",
      "5\n",
      "6\n",
      "7\n",
      "8\n",
      "9\n",
      "0\n",
      "[2, 4, 6, 8, 0]\n"
     ]
    }
   ],
   "source": [
    "# Q.1-->\n",
    "#----------\n",
    "\n",
    "li=[] \n",
    "for i in range (10):\n",
    "    item=int(input()) \n",
    "    if(item%2==0):\n",
    "        li.append(item)\n",
    "print(li) "
   ]
  },
  {
   "cell_type": "raw",
   "metadata": {},
   "source": [
    "# Q. 2-->\n",
    "----------\n",
    "The general syntax of list comprehensions is −>  [expression for element in iterable if condition]\n",
    "\n",
    "lst = [1, 2, 3, 4, 5, 6, 7, 8, 9, 10]\n",
    "squares = [x**2 for x in lst]\n",
    "print(squares)\n",
    "\n",
    "[1, 4, 9, 16, 25, 36, 49, 64, 81, 100]\n"
   ]
  },
  {
   "cell_type": "code",
   "execution_count": 27,
   "metadata": {},
   "outputs": [
    {
     "name": "stdout",
     "output_type": "stream",
     "text": [
      "10\n",
      "{1: 1, 2: 4, 3: 9, 4: 16, 5: 25, 6: 36, 7: 49, 8: 64, 9: 81}\n"
     ]
    }
   ],
   "source": [
    "# Q.3 -->\n",
    "#---------\n",
    "\n",
    "lst=[]\n",
    "n= int(input())\n",
    "for i in range(1,n):\n",
    "    lst.append(i)\n",
    "    lst.append(i*i)\n",
    "dic = {lst[i] : lst[i + 1] for i in range(0, len(lst), 2)}\n",
    "print(dic)"
   ]
  },
  {
   "cell_type": "code",
   "execution_count": 38,
   "metadata": {},
   "outputs": [
    {
     "name": "stdout",
     "output_type": "stream",
     "text": [
      "5\n",
      "3\n",
      "2\n",
      "2\n",
      "\n",
      "2\n",
      "0\n"
     ]
    }
   ],
   "source": [
    "# Q.4 -->\n",
    "#---------\n",
    "\n",
    "pos = {\"x\":0,\"y\":0}\n",
    "num = int(input())\n",
    "\n",
    "for _ in range (num):\n",
    "    command =  input().split(\" \")     \n",
    "    if command[0] == \"UP\":             \n",
    "        pos[\"y\"] += int(command[1])    \n",
    "    if command[0] == \"DOWN\":\n",
    "        pos[\"y\"] -= int(command[1])\n",
    "    if command[0] == \"LEFT\":\n",
    "        pos[\"x\"] -= int(command[1])\n",
    "    if command[0] == \"RIGHT\":\n",
    "        pos[\"x\"] += int(command[1])\n",
    "\n",
    "print(int(round((pos[\"x\"]**2 + pos[\"y\"]**2)**0.5)))   "
   ]
  },
  {
   "cell_type": "code",
   "execution_count": null,
   "metadata": {},
   "outputs": [],
   "source": []
  }
 ],
 "metadata": {
  "kernelspec": {
   "display_name": "Python 3",
   "language": "python",
   "name": "python3"
  },
  "language_info": {
   "codemirror_mode": {
    "name": "ipython",
    "version": 3
   },
   "file_extension": ".py",
   "mimetype": "text/x-python",
   "name": "python",
   "nbconvert_exporter": "python",
   "pygments_lexer": "ipython3",
   "version": "3.8.3"
  }
 },
 "nbformat": 4,
 "nbformat_minor": 4
}
